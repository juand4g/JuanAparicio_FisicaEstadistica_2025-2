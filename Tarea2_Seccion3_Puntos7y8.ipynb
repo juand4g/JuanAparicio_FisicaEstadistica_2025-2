{
 "cells": [
  {
   "cell_type": "code",
   "execution_count": null,
   "id": "09e34f4f",
   "metadata": {},
   "outputs": [],
   "source": [
    "import numpy as np\n",
    "from tqdm import tqdm\n",
    "import matplotlib.pyplot as plt"
   ]
  },
  {
   "cell_type": "code",
   "execution_count": null,
   "id": "fab10dc9",
   "metadata": {},
   "outputs": [],
   "source": [
    "def marcha_aleatoria(N: int, a=1, repeating=False):\n",
    "    \"\"\"\n",
    "    Realiza la marcha aleatoria y devuelve la posición final. La particula da saltos de longitud a=1.\n",
    "\n",
    "    Args: \n",
    "        N (int): numero de pasos\n",
    "        a (int): longitud de cada paso\n",
    "        repating (bool): ¿está repitiendo la medición muchas veces? no muestra el progreso individual si es así. \n",
    "    \n",
    "    Returns:\n",
    "        tuple: posicion final de la particula y dicha posicion al cuadrado\n",
    "    \"\"\"\n",
    "\n",
    "    posibles_pasos = np.array([-a,a])\n",
    "\n",
    "    x=0\n",
    "\n",
    "    if repeating:\n",
    "        for n in range(N):\n",
    "            x += np.random.choice(posibles_pasos)\n",
    "    else:\n",
    "        print(\"Realizando marcha aleatoria...\")\n",
    "        for n in tqdm(range(N)):\n",
    "            x += np.random.choice(posibles_pasos)\n",
    "\n",
    "    return x,x**2"
   ]
  },
  {
   "cell_type": "code",
   "execution_count": null,
   "id": "42988345",
   "metadata": {},
   "outputs": [],
   "source": [
    "print(\"Punto 7\")\n",
    "#Solicita al usuario ingresar el parámetro N hasta recibir un entero válido.\n",
    "while True:\n",
    "    entrada = input(\"Escriba el valor deseado de N: \")\n",
    "    try:\n",
    "        N = int(entrada)\n",
    "        print(\"Parámetro establecido exitosamente.\")\n",
    "        break   # si se pudo convertir, salimos del bucle\n",
    "    except ValueError:\n",
    "        print(\"No se detectó un entero. Vuelva a intentar ingresarlo.\")\n",
    "\n",
    "print(f\"La posición final de la partícula después de {N} pasos fue x={marcha_aleatoria(N)[0]}\")\n",
    "n=100\n",
    "print(f\"\\nRepitiendo la marcha {n} veces...\")\n",
    "\n",
    "Ns = np.zeros(n)\n",
    "\n",
    "for i in tqdm(range(n)):\n",
    "    Ns[i] = marcha_aleatoria(N, repeating=True)[0]\n",
    "\n",
    "plt.hist(Ns)\n",
    "plt.ylabel(\"Frecuencia\")\n",
    "plt.xlabel(\"Posición (x)\")"
   ]
  },
  {
   "cell_type": "code",
   "execution_count": null,
   "id": "436461fb",
   "metadata": {},
   "outputs": [],
   "source": [
    "print(\"Punto 8\")\n",
    "num_Ns = 10\n",
    "N_range = np.random.randint(0, N, size=num_Ns)\n",
    "\n",
    "print(f\"Realizando {n} marchas aleatorias para {num_Ns} valores de N∈[0,{N}] distintos...\")\n",
    "\n",
    "proms_X = np.zeros(num_Ns)\n",
    "proms_X2 = np.zeros(num_Ns)\n",
    "for j, N in tqdm(enumerate(N_range)):\n",
    "    X = np.zeros(n)\n",
    "    X2 = np.zeros(n)\n",
    "    for i in range(n):\n",
    "        X[i],X2[i] = marcha_aleatoria(N, repeating=True)\n",
    "    proms_X[j] = np.mean(X)\n",
    "    proms_X2[j] = np.mean(X2)\n",
    "\n",
    "m, b = np.polyfit(N_range, proms_X2, 1) \n",
    "tau=1\n",
    "D = m / (2*tau)\n",
    "\n",
    "\n",
    "plt.scatter(N_range,proms_X2)\n",
    "plt.title(\"<x²> versus N\")\n",
    "plt.ylabel(\"<x²>\")\n",
    "plt.xlabel(\"N\")\n",
    "plt.show()\n",
    "\n",
    "print(f\"La constante de difusión es entonces D={D:.6g}, con 𝜏=1\")"
   ]
  }
 ],
 "metadata": {
  "kernelspec": {
   "display_name": "Python 3",
   "language": "python",
   "name": "python3"
  },
  "language_info": {
   "codemirror_mode": {
    "name": "ipython",
    "version": 3
   },
   "file_extension": ".py",
   "mimetype": "text/x-python",
   "name": "python",
   "nbconvert_exporter": "python",
   "pygments_lexer": "ipython3",
   "version": "3.13.5"
  }
 },
 "nbformat": 4,
 "nbformat_minor": 5
}
